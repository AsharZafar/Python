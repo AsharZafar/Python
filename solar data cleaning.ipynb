{
 "cells": [
  {
   "cell_type": "code",
   "execution_count": 1,
   "id": "f8119dd5",
   "metadata": {},
   "outputs": [],
   "source": [
    "import matplotlib.pyplot as plt\n",
    "import numpy as np\n",
    "import pandas as pd\n",
    "from sklearn.ensemble import RandomForestRegressor, GradientBoostingRegressor\n",
    "from sklearn.metrics import mean_squared_error, r2_score\n",
    "from sklearn.model_selection import train_test_split\n",
    "from sklearn.preprocessing import LabelEncoder, StandardScaler\n",
    "from sklearn.svm import SVR"
   ]
  },
  {
   "cell_type": "code",
   "execution_count": 2,
   "id": "619b5503",
   "metadata": {},
   "outputs": [],
   "source": [
    "# Load the raw dataset\n",
    "df = pd.read_csv(r\"C:\\Users\\user\\Desktop\\Ashar CEP\\Solar_dataset.csv\")\n",
    "df1 = df.copy()"
   ]
  },
  {
   "cell_type": "code",
   "execution_count": 3,
   "id": "69b1e54c",
   "metadata": {},
   "outputs": [],
   "source": [
    "# 1. Data Type Conversion\n",
    "df1['DC_POWER'] = pd.to_numeric(df1['DC_POWER'], errors='coerce')\n",
    "df1['AC_POWER'] = pd.to_numeric(df1['AC_POWER'], errors='coerce')"
   ]
  },
  {
   "cell_type": "code",
   "execution_count": 4,
   "id": "d34bf98f",
   "metadata": {},
   "outputs": [],
   "source": [
    "# 2. Convert Date and Time columns to datetime format\n",
    "df1['Date'] = pd.to_datetime(df1[['Year', 'Month', 'Day', 'Hour', 'Minute']])\n",
    "df1 = df1.drop(['Year', 'Month', 'Day', 'Hour', 'Minute'], axis=1)"
   ]
  },
  {
   "cell_type": "code",
   "execution_count": 5,
   "id": "79a38b30",
   "metadata": {},
   "outputs": [],
   "source": [
    "# 3. Remove rows with negative values in the 'YIELD' column\n",
    "df1 = df1[df1['YIELD'] >= 0]"
   ]
  },
  {
   "cell_type": "code",
   "execution_count": 6,
   "id": "727f2c42",
   "metadata": {},
   "outputs": [],
   "source": [
    "# 4. Handle Missing Values\n",
    "df1 = df1.dropna()"
   ]
  },
  {
   "cell_type": "code",
   "execution_count": 7,
   "id": "54c227e5",
   "metadata": {},
   "outputs": [],
   "source": [
    "# 5. Create a new column for the portion of the day\n",
    "df1['Day_Part'] = pd.cut(df1['Date'].dt.hour,\n",
    "                         bins=[0, 6, 12, 15, 19, 24],\n",
    "                         labels=['Night', 'Morning', 'Afternoon', 'Evening', 'Night'],\n",
    "                         right=False,\n",
    "                         ordered=False)"
   ]
  },
  {
   "cell_type": "code",
   "execution_count": 8,
   "id": "25261036",
   "metadata": {},
   "outputs": [],
   "source": [
    "# 6. Save the cleaned DataFrame to a new CSV file\n",
    "df1.to_csv(r\"C:\\Users\\user\\Desktop\\Ashar CEP\\New_Solar_dataset.csv\", index=False)"
   ]
  },
  {
   "cell_type": "code",
   "execution_count": 9,
   "id": "82f1a838",
   "metadata": {},
   "outputs": [],
   "source": [
    "df = pd.read_csv(\"C:/Users/user/Desktop/Ashar CEP/Cleaned_Solar_dataset.csv\")\n",
    "\n",
    "# Exclude 'Date' column from features\n",
    "X = df.drop(['YIELD', 'AC_POWER', 'DC_POWER', 'Date'], axis=1)\n",
    "y = df['YIELD']\n",
    "\n",
    "# Label encode categorical columns\n",
    "label_encoder = LabelEncoder()\n",
    "X['PLANT_ID'] = label_encoder.fit_transform(X['PLANT_ID'])\n",
    "X['Day_Part'] = label_encoder.fit_transform(X['Day_Part'])"
   ]
  },
  {
   "cell_type": "code",
   "execution_count": null,
   "id": "d5f1a6a7",
   "metadata": {},
   "outputs": [],
   "source": [
    "# Split the data into training and testing sets\n",
    "X_train, X_test, y_train, y_test = train_test_split(X, y, test_size=0.1, random_state=42)\n",
    "\n",
    "# Train machine learning models\n",
    "models = {\n",
    "    'Random Forest': RandomForestRegressor(n_estimators=100, random_state=42),\n",
    "    'Gradient Boosting': GradientBoostingRegressor(n_estimators=100, random_state=42),\n",
    "    'SVR': SVR(kernel='linear')  # You can change the kernel as needed\n",
    "}\n",
    "\n",
    "best_model_name = None\n",
    "best_model = None\n",
    "best_testing_r2_score = -np.inf\n",
    "\n",
    "# Find the best-performing model based on testing R2 score\n",
    "results = {'Model': [], 'Mean Squared Error': [], 'Training R2 Score': [], 'Testing R2 Score': []}\n",
    "\n",
    "for model_name, model in models.items():\n",
    "    model.fit(X_train, y_train)\n",
    "\n",
    "    # Predict on the test set\n",
    "    y_test_pred = model.predict(X_test)\n",
    "\n",
    "    # Calculate testing R2 score\n",
    "    testing_r2_score = r2_score(y_test, y_test_pred)\n",
    "\n",
    "    # Store results in the dictionary\n",
    "    results['Model'].append(model_name)\n",
    "    results['Mean Squared Error'].append(mean_squared_error(y_test, y_test_pred))\n",
    "    results['Training R2 Score'].append(r2_score(y_train, model.predict(X_train)))\n",
    "    results['Testing R2 Score'].append(testing_r2_score)\n",
    "\n",
    "    # Update the best model\n",
    "    if testing_r2_score > best_testing_r2_score:\n",
    "        best_testing_r2_score = testing_r2_score\n",
    "        best_model_name = model_name\n",
    "        best_model = model\n",
    "\n",
    "# Print results\n",
    "print(\"Best Model:\", best_model_name)\n",
    "print(\"Testing R2 Score of the Best Model:\", best_testing_r2_score)\n",
    "# Choose two random data points from the test set\n",
    "random_points_indices = np.random.choice(X_test.shape[0], size=2, replace=False)\n",
    "random_points = X_test.iloc[random_points_indices, :]\n",
    "\n",
    "random_points_y = y_test.iloc[random_points_indices]"
   ]
  },
  {
   "cell_type": "code",
   "execution_count": null,
   "id": "ccb0ce5f",
   "metadata": {},
   "outputs": [],
   "source": [
    "# Predict on the two random data points using the best model\n",
    "predictions = best_model.predict(random_points)\n",
    "\n",
    "# Print the results\n",
    "print(f\"\\nPredictions for {best_model_name} (Best Model):\")\n",
    "for i, (actual_yield, prediction) in enumerate(zip(random_points_y, predictions)):\n",
    "    print(f\"Data Point {i + 1} - Predicted YIELD: {prediction}, Actual YIELD: {actual_yield}\")"
   ]
  },
  {
   "cell_type": "code",
   "execution_count": null,
   "id": "650968c4",
   "metadata": {},
   "outputs": [],
   "source": []
  }
 ],
 "metadata": {
  "kernelspec": {
   "display_name": "Python 3 (ipykernel)",
   "language": "python",
   "name": "python3"
  },
  "language_info": {
   "codemirror_mode": {
    "name": "ipython",
    "version": 3
   },
   "file_extension": ".py",
   "mimetype": "text/x-python",
   "name": "python",
   "nbconvert_exporter": "python",
   "pygments_lexer": "ipython3",
   "version": "3.11.5"
  }
 },
 "nbformat": 4,
 "nbformat_minor": 5
}
